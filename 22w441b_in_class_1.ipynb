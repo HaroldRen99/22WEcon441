{
  "nbformat": 4,
  "nbformat_minor": 0,
  "metadata": {
    "colab": {
      "provenance": []
    },
    "kernelspec": {
      "name": "python3",
      "display_name": "Python 3"
    },
    "language_info": {
      "name": "python"
    }
  },
  "cells": [
    {
      "cell_type": "code",
      "execution_count": 1,
      "metadata": {
        "id": "gvd498IbORIX"
      },
      "outputs": [],
      "source": [
        "import pandas as pd\n",
        "from google.colab import drive"
      ]
    },
    {
      "cell_type": "code",
      "source": [
        "drive.mount('/content/gdrive', force_remount = True)"
      ],
      "metadata": {
        "colab": {
          "base_uri": "https://localhost:8080/"
        },
        "id": "uuUxQrmwOYxv",
        "outputId": "d1e27ed5-8df4-4aca-9a24-d3c719f497ae"
      },
      "execution_count": 2,
      "outputs": [
        {
          "output_type": "stream",
          "name": "stdout",
          "text": [
            "Mounted at /content/gdrive\n"
          ]
        }
      ]
    },
    {
      "cell_type": "code",
      "source": [
        "df = pd.read_csv(\"/content/gdrive/MyDrive/cancer_reg.csv\", encoding=\"Latin-1\")"
      ],
      "metadata": {
        "id": "lFy0wasdPY5c"
      },
      "execution_count": 4,
      "outputs": []
    },
    {
      "cell_type": "code",
      "source": [
        "df.info()"
      ],
      "metadata": {
        "colab": {
          "base_uri": "https://localhost:8080/"
        },
        "id": "BOAWmeenQV4h",
        "outputId": "4e391995-c3e5-4d7c-b032-820dfbd7ea1f"
      },
      "execution_count": 9,
      "outputs": [
        {
          "output_type": "stream",
          "name": "stdout",
          "text": [
            "<class 'pandas.core.frame.DataFrame'>\n",
            "RangeIndex: 3047 entries, 0 to 3046\n",
            "Data columns (total 34 columns):\n",
            " #   Column                   Non-Null Count  Dtype  \n",
            "---  ------                   --------------  -----  \n",
            " 0   avgAnnCount              3047 non-null   float64\n",
            " 1   avgDeathsPerYear         3047 non-null   int64  \n",
            " 2   TARGET_deathRate         3047 non-null   float64\n",
            " 3   incidenceRate            3047 non-null   float64\n",
            " 4   medIncome                3047 non-null   int64  \n",
            " 5   popEst2015               3047 non-null   int64  \n",
            " 6   povertyPercent           3047 non-null   float64\n",
            " 7   studyPerCap              3047 non-null   float64\n",
            " 8   binnedInc                3047 non-null   object \n",
            " 9   MedianAge                3047 non-null   float64\n",
            " 10  MedianAgeMale            3047 non-null   float64\n",
            " 11  MedianAgeFemale          3047 non-null   float64\n",
            " 12  Geography                3047 non-null   object \n",
            " 13  AvgHouseholdSize         3047 non-null   float64\n",
            " 14  PercentMarried           3047 non-null   float64\n",
            " 15  PctNoHS18_24             3047 non-null   float64\n",
            " 16  PctHS18_24               3047 non-null   float64\n",
            " 17  PctSomeCol18_24          762 non-null    float64\n",
            " 18  PctBachDeg18_24          3047 non-null   float64\n",
            " 19  PctHS25_Over             3047 non-null   float64\n",
            " 20  PctBachDeg25_Over        3047 non-null   float64\n",
            " 21  PctEmployed16_Over       2895 non-null   float64\n",
            " 22  PctUnemployed16_Over     3047 non-null   float64\n",
            " 23  PctPrivateCoverage       3047 non-null   float64\n",
            " 24  PctPrivateCoverageAlone  2438 non-null   float64\n",
            " 25  PctEmpPrivCoverage       3047 non-null   float64\n",
            " 26  PctPublicCoverage        3047 non-null   float64\n",
            " 27  PctPublicCoverageAlone   3047 non-null   float64\n",
            " 28  PctWhite                 3047 non-null   float64\n",
            " 29  PctBlack                 3047 non-null   float64\n",
            " 30  PctAsian                 3047 non-null   float64\n",
            " 31  PctOtherRace             3047 non-null   float64\n",
            " 32  PctMarriedHouseholds     3047 non-null   float64\n",
            " 33  BirthRate                3047 non-null   float64\n",
            "dtypes: float64(29), int64(3), object(2)\n",
            "memory usage: 809.5+ KB\n"
          ]
        }
      ]
    },
    {
      "cell_type": "code",
      "source": [
        "import matplotlib.pyplot as plt"
      ],
      "metadata": {
        "id": "pCpT7CLjRA_p"
      },
      "execution_count": 6,
      "outputs": []
    },
    {
      "cell_type": "code",
      "source": [
        "# Prepare for recursion\n",
        "column_name = list(df.columns)"
      ],
      "metadata": {
        "id": "67BBMkSeRNC0"
      },
      "execution_count": 7,
      "outputs": []
    },
    {
      "cell_type": "code",
      "source": [
        "# Histogram\n",
        "plt.figure(figsize = (10, 7))\n",
        "plt.hist(df[\"PercentMarried\"], alpha = .5)\n",
        "plt.title(\"Histograms of PercentMarried\")\n",
        "plt.tight_layout()\n",
        "plt.show()"
      ],
      "metadata": {
        "colab": {
          "base_uri": "https://localhost:8080/",
          "height": 513
        },
        "id": "cy_W7110QaCV",
        "outputId": "198b4320-3cbe-48ae-e616-3bf044f63de4"
      },
      "execution_count": 12,
      "outputs": [
        {
          "output_type": "display_data",
          "data": {
            "text/plain": [
              "<Figure size 720x504 with 1 Axes>"
            ],
            "image/png": "[encoded data removed]"
          },
          "metadata": {
            "needs_background": "light"
          }
        }
      ]
    },
    {
      "cell_type": "code",
      "source": [],
      "metadata": {
        "id": "iiZKVmt7R9De"
      },
      "execution_count": null,
      "outputs": []
    }
  ]
}